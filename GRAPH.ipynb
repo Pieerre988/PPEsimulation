{
 "cells": [
  {
   "cell_type": "code",
   "execution_count": 1,
   "metadata": {},
   "outputs": [],
   "source": [
    "# Python program for  \n",
    "# validation of a graph \n",
    "  \n",
    "# import dictionary for graph \n",
    "from collections import defaultdict "
   ]
  },
  {
   "cell_type": "code",
   "execution_count": 2,
   "metadata": {},
   "outputs": [],
   "source": [
    "# function for adding edge to graph \n",
    "graph = defaultdict(list) \n",
    "def addEdge(graph,u,v): \n",
    "    graph[u].append(v) \n",
    "  \n",
    "# definition of function \n",
    "def generate_edges(graph): \n",
    "    edges = [] \n",
    "  \n",
    "    # for each node in graph \n",
    "    for node in graph: \n",
    "          \n",
    "        # for each neighbour node of a single node \n",
    "        for neighbour in graph[node]: \n",
    "              \n",
    "            # if edge exists then append \n",
    "            edges.append((node, neighbour)) \n",
    "    return edges "
   ]
  },
  {
   "cell_type": "code",
   "execution_count": 4,
   "metadata": {},
   "outputs": [],
   "source": [
    "# function to find path \n",
    "def find_path(graph, start, end, path =[]): \n",
    "  path = path + [start] \n",
    "  if start == end: \n",
    "    return path \n",
    "  for node in graph[start]: \n",
    "    if node not in path: \n",
    "      newpath = find_path(graph, node, end, path) \n",
    "      if newpath:  \n",
    "        return newpath \n",
    "      return None"
   ]
  },
  {
   "cell_type": "code",
   "execution_count": 3,
   "metadata": {},
   "outputs": [
    {
     "name": "stdout",
     "output_type": "stream",
     "text": [
      "[('a', 'c'), ('b', 'c'), ('b', 'e'), ('c', 'd'), ('c', 'e'), ('c', 'a'), ('c', 'b'), ('e', 'b'), ('e', 'c'), ('d', 'c')]\n"
     ]
    }
   ],
   "source": [
    "# declaration of graph as dictionary \n",
    "addEdge(graph,'a','c') \n",
    "addEdge(graph,'b','c') \n",
    "addEdge(graph,'b','e') \n",
    "addEdge(graph,'c','d') \n",
    "addEdge(graph,'c','e') \n",
    "addEdge(graph,'c','a') \n",
    "addEdge(graph,'c','b') \n",
    "addEdge(graph,'e','b') \n",
    "addEdge(graph,'d','c') \n",
    "addEdge(graph,'e','c') \n",
    "  \n",
    "# Driver Function call  \n",
    "# to print generated graph \n",
    "print(generate_edges(graph)) "
   ]
  },
  {
   "cell_type": "code",
   "execution_count": 10,
   "metadata": {},
   "outputs": [
    {
     "name": "stdout",
     "output_type": "stream",
     "text": [
      "['e', 'b', 'c', 'd']\n"
     ]
    }
   ],
   "source": [
    "# Driver function call to print the path \n",
    "print(find_path(graph, 'e', 'd')) "
   ]
  },
  {
   "cell_type": "code",
   "execution_count": 11,
   "metadata": {},
   "outputs": [
    {
     "ename": "NameError",
     "evalue": "name 'G' is not defined",
     "output_type": "error",
     "traceback": [
      "\u001b[1;31m---------------------------------------------------------------------------\u001b[0m",
      "\u001b[1;31mNameError\u001b[0m                                 Traceback (most recent call last)",
      "\u001b[1;32m<ipython-input-11-e63d448c430b>\u001b[0m in \u001b[0;36m<module>\u001b[1;34m\u001b[0m\n\u001b[0;32m      4\u001b[0m          (3, 4), (3, 5), (4, 8), (4, 9), (6, 7)] \n\u001b[0;32m      5\u001b[0m \u001b[1;33m\u001b[0m\u001b[0m\n\u001b[1;32m----> 6\u001b[1;33m \u001b[0mG\u001b[0m\u001b[1;33m.\u001b[0m\u001b[0madd_edges_from\u001b[0m\u001b[1;33m(\u001b[0m\u001b[0medges\u001b[0m\u001b[1;33m)\u001b[0m\u001b[1;33m\u001b[0m\u001b[1;33m\u001b[0m\u001b[0m\n\u001b[0m\u001b[0;32m      7\u001b[0m \u001b[0mnx\u001b[0m\u001b[1;33m.\u001b[0m\u001b[0mdraw_networkx\u001b[0m\u001b[1;33m(\u001b[0m\u001b[0mG\u001b[0m\u001b[1;33m,\u001b[0m \u001b[0mwith_label\u001b[0m \u001b[1;33m=\u001b[0m \u001b[1;32mTrue\u001b[0m\u001b[1;33m)\u001b[0m\u001b[1;33m\u001b[0m\u001b[1;33m\u001b[0m\u001b[0m\n\u001b[0;32m      8\u001b[0m \u001b[1;33m\u001b[0m\u001b[0m\n",
      "\u001b[1;31mNameError\u001b[0m: name 'G' is not defined"
     ]
    }
   ],
   "source": [
    "import networkx as nx \n",
    "  \n",
    "edges = [(1, 2), (1, 6), (2, 3), (2, 4), (2, 6),  \n",
    "         (3, 4), (3, 5), (4, 8), (4, 9), (6, 7)] \n",
    "  \n",
    "G.add_edges_from(edges) \n",
    "nx.draw_networkx(G, with_label = True) \n",
    "  \n",
    "print(\"Total number of nodes: \", int(G.number_of_nodes())) \n",
    "print(\"Total number of edges: \", int(G.number_of_edges())) \n",
    "print(\"List of all nodes: \", list(G.nodes())) \n",
    "print(\"List of all edges: \", list(G.edges(data = True))) \n",
    "print(\"Degree for all nodes: \", dict(G.degree())) \n",
    "  \n",
    "print(\"Total number of self-loops: \", int(G.number_of_selfloops())) \n",
    "print(\"List of all nodes with self-loops: \", \n",
    "             list(G.nodes_with_selfloops())) \n",
    "  \n",
    "print(\"List of all nodes we can go to in a single step from node 2: \", \n",
    "                                                 list(G.neighbors(2)))"
   ]
  }
 ],
 "metadata": {
  "kernelspec": {
   "display_name": "Python 3",
   "language": "python",
   "name": "python3"
  },
  "language_info": {
   "codemirror_mode": {
    "name": "ipython",
    "version": 3
   },
   "file_extension": ".py",
   "mimetype": "text/x-python",
   "name": "python",
   "nbconvert_exporter": "python",
   "pygments_lexer": "ipython3",
   "version": "3.7.4"
  }
 },
 "nbformat": 4,
 "nbformat_minor": 2
}
